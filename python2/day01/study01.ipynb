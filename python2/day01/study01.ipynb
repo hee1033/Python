{
 "cells": [
  {
   "cell_type": "code",
   "execution_count": 1,
   "metadata": {},
   "outputs": [
    {
     "name": "stdout",
     "output_type": "stream",
     "text": [
      "31일\n"
     ]
    }
   ],
   "source": [
    "# 딕셔너리\n",
    "\n",
    "# 문제 : 딕셔너리에 각 달의 마지막 날들을 한번에 담기\n",
    "# 조건 : 1월 ~ 3월까지\n",
    "# 조건 : 2월의 마지막은 28일로 함\n",
    "# 조건 : 첫 데이터의 key는 \"1월\", value는 31일\n",
    "\n",
    "dic = {\"1월\":\"31일\",\"2월\":\"28일\",\"3월\":\"31일\"}\n",
    "print(dic[\"1월\"])"
   ]
  },
  {
   "cell_type": "code",
   "execution_count": 2,
   "metadata": {},
   "outputs": [
    {
     "name": "stdout",
     "output_type": "stream",
     "text": [
      "{'1월': 31, '2월': 28, '3월': 31, '4월': 30, '5월': 31, '6월': 30, '7월': 31, '8월': 31, '9월': 30, '10월': 31, '11월': 30, '12월': 31}\n"
     ]
    }
   ],
   "source": [
    "# 문제 : 딕셔너리에 각 달의 마지막 날들을 반복문을 통해 담기\n",
    "\n",
    "dic1 = {}\n",
    "\n",
    "i = 1\n",
    "while i<=12 :\n",
    "    if i == 2 :\n",
    "        dic1[str(i)+\"월\"] = 28\n",
    "    elif i == 4 or i == 6 or i ==9 or i == 11 : \n",
    "        dic1[str(i)+\"월\"] = 30\n",
    "    else :\n",
    "        dic1[str(i)+\"월\"] = 31\n",
    "    i+=1\n",
    "print(dic1)\n"
   ]
  },
  {
   "cell_type": "code",
   "execution_count": 3,
   "metadata": {},
   "outputs": [
    {
     "name": "stdout",
     "output_type": "stream",
     "text": [
      "{'1월': 31, '2월': 28, '3월': 31, '4월': 30, '5월': 31, '6월': 30, '7월': 31, '8월': 31, '9월': 30, '10월': 31, '11월': 30, '12월': 31}\n"
     ]
    }
   ],
   "source": [
    "dic2 = {}\n",
    "\n",
    "for i in range(1,13):\n",
    "    month = str(i) + \"월\"\n",
    "    endday = 31\n",
    "    if i == 2 :\n",
    "        endday = 28\n",
    "    elif i in [4,6,9,11]:\n",
    "        endday =30\n",
    "    dic2[month] = endday\n",
    "print(dic2)"
   ]
  },
  {
   "cell_type": "code",
   "execution_count": 4,
   "metadata": {},
   "outputs": [
    {
     "name": "stdout",
     "output_type": "stream",
     "text": [
      "{'1월': 31, '2월': 28, '3월': 31, '4월': 30, '5월': 31, '6월': 30, '7월': 31, '8월': 31, '9월': 30, '10월': 31, '11월': 30, '12월': 31}\n"
     ]
    }
   ],
   "source": [
    "dic3 = {}\n",
    "dic3_list = [31,28,31,30,31,30,31,31,30,31,30,31]\n",
    "\n",
    "for i , j in enumerate(dic3_list) :\n",
    "    month = str(i + 1) + \"월\"\n",
    "    dic3[month] = j\n",
    "print(dic3)"
   ]
  }
 ],
 "metadata": {
  "interpreter": {
   "hash": "97ae724bfa85b9b34df7982b8bb8c7216f435b92902d749e4263f71162bea840"
  },
  "kernelspec": {
   "display_name": "Python 3.9.7 ('base')",
   "language": "python",
   "name": "python3"
  },
  "language_info": {
   "codemirror_mode": {
    "name": "ipython",
    "version": 3
   },
   "file_extension": ".py",
   "mimetype": "text/x-python",
   "name": "python",
   "nbconvert_exporter": "python",
   "pygments_lexer": "ipython3",
   "version": "3.9.7"
  },
  "orig_nbformat": 4
 },
 "nbformat": 4,
 "nbformat_minor": 2
}
