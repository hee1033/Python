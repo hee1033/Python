{
 "cells": [
  {
   "cell_type": "code",
   "execution_count": 2,
   "metadata": {},
   "outputs": [
    {
     "name": "stdout",
     "output_type": "stream",
     "text": [
      "31\n",
      "28\n",
      "31\n"
     ]
    }
   ],
   "source": [
    "# 문제 : 딕셔너리에 각 달의 마지막 날들을 한번에 담고, 수작업으로 순회출력\n",
    "# 조건 : 1월부터 3월까지만 담고 출력해주세요\n",
    "\n",
    "dic = {}\n",
    "\n",
    "dic[\"1월\"] = 31\n",
    "dic[\"2월\"] = 28\n",
    "dic[\"3월\"] = 31\n",
    "\n",
    "print(dic[\"1월\"])\n",
    "print(dic[\"2월\"])\n",
    "print(dic[\"3월\"])\n"
   ]
  },
  {
   "cell_type": "code",
   "execution_count": 3,
   "metadata": {},
   "outputs": [
    {
     "name": "stdout",
     "output_type": "stream",
     "text": [
      "1월\n",
      "2월\n",
      "3월\n",
      "4월\n",
      "5월\n",
      "6월\n",
      "7월\n",
      "8월\n",
      "9월\n",
      "10월\n",
      "11월\n",
      "12월\n"
     ]
    }
   ],
   "source": [
    "# 문제 : 딕셔너리에 각 달의 마지막 날들을 한번에 담고, keys()로 key 순회출력\n",
    "\n",
    "dic1 = {}\n",
    "dic1_list = [31,28,31,30,31,30,31,31,30,31,30,31]\n",
    "for i , j in enumerate(dic1_list):\n",
    "    month = str(i+1) + \"월\"\n",
    "    dic1[month] = j\n",
    "    print(month)"
   ]
  }
 ],
 "metadata": {
  "interpreter": {
   "hash": "97ae724bfa85b9b34df7982b8bb8c7216f435b92902d749e4263f71162bea840"
  },
  "kernelspec": {
   "display_name": "Python 3.9.7 ('base')",
   "language": "python",
   "name": "python3"
  },
  "language_info": {
   "codemirror_mode": {
    "name": "ipython",
    "version": 3
   },
   "file_extension": ".py",
   "mimetype": "text/x-python",
   "name": "python",
   "nbconvert_exporter": "python",
   "pygments_lexer": "ipython3",
   "version": "3.9.7"
  },
  "orig_nbformat": 4
 },
 "nbformat": 4,
 "nbformat_minor": 2
}
