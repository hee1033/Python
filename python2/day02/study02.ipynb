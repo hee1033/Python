{
 "cells": [
  {
   "cell_type": "code",
   "execution_count": 1,
   "metadata": {},
   "outputs": [],
   "source": [
    "# #Class \n",
    "# #class 의 이름은 대문자로 작성해야하며, 특수문자나 숫자로 시작하면 안된다.\n",
    "# # class 클래스 이름 :\n",
    "#     데이터 속성\n",
    "#     데이터를 이용한 함수\n",
    "\n",
    "class Person:\n",
    "    age = 21\n",
    "    name = \"홍길동\"\n",
    "    def introduce(self):\n",
    "        print(\"안녕하세요. 저는 {} 살 {} 입니다.\".format(self.age,self.name))"
   ]
  },
  {
   "cell_type": "code",
   "execution_count": 2,
   "metadata": {},
   "outputs": [
    {
     "name": "stdout",
     "output_type": "stream",
     "text": [
      "안녕하세요. 저는 24 살 홍길순 입니다.\n",
      "안녕하세요. 저는 29 살 홍실동 입니다.\n"
     ]
    }
   ],
   "source": [
    "p1 = Person()\n",
    "p1.age = 24\n",
    "p1.name = \"홍길순\"\n",
    "p2 = Person()\n",
    "p2.age = 29\n",
    "p2.name = \"홍실동\"\n",
    "\n",
    "p1.introduce()\n",
    "p2.introduce()"
   ]
  },
  {
   "cell_type": "code",
   "execution_count": 3,
   "metadata": {},
   "outputs": [
    {
     "name": "stdout",
     "output_type": "stream",
     "text": [
      "카니발이(가) 220 km/h로 달립니다.\n",
      "제네시스이(가) 250 km/h로 달립니다.\n",
      "벤츠이(가) 160 km/h로 달립니다.\n"
     ]
    }
   ],
   "source": [
    "# 문제 : 자동차 객체를 담을 변수를 만들어주세요.\n",
    "# 자동차 객체를 변수에 담고 그 변수를 이용해 최고속력이 서로 다르게 만들어주세요.\n",
    "\n",
    "# 각 자동차가 자신의 최고속력으로 달리게 해주세요.\n",
    "\n",
    "\n",
    "# 출력 : 자동차가 최대속력 220km로 달립니다.\n",
    "# 출력 : 자동차가 최대속력 250km로 달립니다.\n",
    "class Car :\n",
    "    name = \"카니발\"\n",
    "    s = 220\n",
    "    def introduce(self):\n",
    "        print(\"{}이(가) {} km/h로 달립니다.\".format(self.name,self.s))\n",
    "c1 = Car()\n",
    "c1.introduce()\n",
    "c2 = Car()\n",
    "c2.name =\"제네시스\"\n",
    "c2.s = 250\n",
    "c2.introduce()\n",
    "c3 = Car()\n",
    "c3.name = \"벤츠\"\n",
    "c3.s = 160\n",
    "c3.introduce()"
   ]
  }
 ],
 "metadata": {
  "interpreter": {
   "hash": "97ae724bfa85b9b34df7982b8bb8c7216f435b92902d749e4263f71162bea840"
  },
  "kernelspec": {
   "display_name": "Python 3.9.7 ('base')",
   "language": "python",
   "name": "python3"
  },
  "language_info": {
   "codemirror_mode": {
    "name": "ipython",
    "version": 3
   },
   "file_extension": ".py",
   "mimetype": "text/x-python",
   "name": "python",
   "nbconvert_exporter": "python",
   "pygments_lexer": "ipython3",
   "version": "3.9.7"
  },
  "orig_nbformat": 4
 },
 "nbformat": 4,
 "nbformat_minor": 2
}
