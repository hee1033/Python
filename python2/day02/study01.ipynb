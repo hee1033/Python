{
 "cells": [
  {
   "cell_type": "code",
   "execution_count": 1,
   "metadata": {},
   "outputs": [
    {
     "name": "stdout",
     "output_type": "stream",
     "text": [
      "31일\n",
      "28일\n",
      "31일\n",
      "30일\n",
      "31일\n",
      "30일\n",
      "31일\n",
      "31일\n",
      "30일\n",
      "31일\n",
      "30일\n",
      "31일\n"
     ]
    }
   ],
   "source": [
    "# 문제 : 딕셔너리에 각 달의 마지막 날들을 한번에 담고, keys()로 key, value 순회출력\n",
    "\n",
    "\n",
    "dic = {}\n",
    "dic_list = [31,28,31,30,31,30,31,31,30,31,30,31]\n",
    "\n",
    "for i ,j in enumerate(dic_list):\n",
    "    month = str(i+1)+\"월\"\n",
    "    dic[month] = str(j) +\"일\"\n",
    "\n",
    "for month in dic.keys():\n",
    "    endday = dic[month]\n",
    "    print(endday)"
   ]
  },
  {
   "cell_type": "code",
   "execution_count": 2,
   "metadata": {},
   "outputs": [
    {
     "name": "stdout",
     "output_type": "stream",
     "text": [
      "31일\n",
      "28일\n",
      "31일\n",
      "30일\n",
      "31일\n",
      "30일\n",
      "31일\n",
      "31일\n",
      "30일\n",
      "31일\n",
      "30일\n",
      "31일\n"
     ]
    }
   ],
   "source": [
    "# 문제 : 딕셔너리에 각 달의 마지막 날들을 한번에 담고, values()로 value 순회출력\n",
    "\n",
    "for endday in dic.values():\n",
    "    print(endday)"
   ]
  },
  {
   "cell_type": "code",
   "execution_count": 3,
   "metadata": {},
   "outputs": [
    {
     "name": "stdout",
     "output_type": "stream",
     "text": [
      "1월는31일까지 입니다.\n",
      "2월는28일까지 입니다.\n",
      "3월는31일까지 입니다.\n",
      "4월는30일까지 입니다.\n",
      "5월는31일까지 입니다.\n",
      "6월는30일까지 입니다.\n",
      "7월는31일까지 입니다.\n",
      "8월는31일까지 입니다.\n",
      "9월는30일까지 입니다.\n",
      "10월는31일까지 입니다.\n",
      "11월는30일까지 입니다.\n",
      "12월는31일까지 입니다.\n"
     ]
    }
   ],
   "source": [
    "# 문제 : 딕셔너리에 각 달의 마지막 날들을 한번에 담고, items()로 key, value 순회출력\n",
    "\n",
    "for month,endday in dic.items():\n",
    "    print(month + \"는\" + endday +\"까지 입니다.\")"
   ]
  },
  {
   "cell_type": "code",
   "execution_count": 4,
   "metadata": {},
   "outputs": [
    {
     "name": "stdout",
     "output_type": "stream",
     "text": [
      "{'1월': 31, '2월': 28}\n"
     ]
    }
   ],
   "source": [
    "# (문제) 딕셔너리에 각 달의 마지막 날들을 한번에 담고, 3월 정보를 제거\n",
    "m = {\"1월\":31,\"2월\":28,\"3월\":31}\n",
    "\n",
    "del m[\"3월\"]\n",
    "print(m)"
   ]
  },
  {
   "cell_type": "code",
   "execution_count": 5,
   "metadata": {},
   "outputs": [
    {
     "name": "stdout",
     "output_type": "stream",
     "text": [
      "{'1월': 31, '2월': 29, '3월': 31}\n"
     ]
    }
   ],
   "source": [
    "# 문제 : 딕셔너리에 각 달의 마지막 날들을 한번에 담고, 2월을 29일로 수정\n",
    "m = {\"1월\":31,\"2월\":28,\"3월\":31}\n",
    "\n",
    "m[\"2월\"] = 29\n",
    "print(m)"
   ]
  },
  {
   "cell_type": "code",
   "execution_count": 6,
   "metadata": {},
   "outputs": [
    {
     "name": "stdout",
     "output_type": "stream",
     "text": [
      "{'1월': 31, '2월': 29, '3월': 31, '4월': 30, '5월': 31}\n"
     ]
    }
   ],
   "source": [
    "# 문제 : 딕셔너리에 각 달의 마지막 날들을 한번에 담고, update를 이용하여, 2월을 29일로 수정하고 4월, 5월의 정보도 추가\n",
    "m = {\"1월\":31,\"2월\":28,\"3월\":31}\n",
    "m1 = {\"2월\":29,\"4월\":30,\"5월\":31}\n",
    "m.update(m1)\n",
    "print(m)"
   ]
  },
  {
   "cell_type": "code",
   "execution_count": 7,
   "metadata": {},
   "outputs": [
    {
     "name": "stdout",
     "output_type": "stream",
     "text": [
      "{'영수': '11살', '영희': '12살', '철수': '13살', '민수': '14살', '희수': '15살'}\n",
      "{'영수': '11살', '영희': '12살', '철수': '13살', '민수': '14살'}\n"
     ]
    }
   ],
   "source": [
    "# 문제 : 영수, 영희, 철수, 민수의 나이를 딕셔너리에 담기\n",
    "# 조건 : 가장 효율적인 데이터구조를 유지해주시면 됩니다.\n",
    "# 변수명을 명확하고 간결하게 지어주시면 됩니다.\n",
    "# 영수 : 11살, 영희 : 12살, 철수 : 13살, \n",
    "# 민수 : 14살\n",
    "# 15살 희수가 있었으나 전학을 갔다. 기록을 삭제해야 한다.\n",
    "\n",
    "dic = {\"영수\" : \"11살\",\"영희\":\"12살\",\"철수\":\"13살\",\"민수\":\"14살\"}\n",
    "dic1 = {\"희수\":\"15살\"}\n",
    "\n",
    "dic.update(dic1)\n",
    "print(dic)\n",
    "del dic[\"희수\"]\n",
    "print(dic)"
   ]
  },
  {
   "cell_type": "code",
   "execution_count": 8,
   "metadata": {},
   "outputs": [
    {
     "name": "stdout",
     "output_type": "stream",
     "text": [
      "영수는11살 입니다.\n",
      "영희는12살 입니다.\n",
      "철수는13살 입니다.\n",
      "민수는14살 입니다.\n"
     ]
    }
   ],
   "source": [
    "# 문제 : 영수, 영희, 철수, 민수의 나이를 딕셔너리에 담고, 데이터를 넣은 순서대로 순회출력\n",
    "\n",
    "dic = {\"영수\" : 11,\"영희\":12,\"철수\":13,\"민수\":14}\n",
    "\n",
    "for i,j in dic.items():\n",
    "    j = dic[i]\n",
    "    ages = str(j)\n",
    "    print(i + \"는\"+ ages +\"살 입니다.\")"
   ]
  }
 ],
 "metadata": {
  "interpreter": {
   "hash": "97ae724bfa85b9b34df7982b8bb8c7216f435b92902d749e4263f71162bea840"
  },
  "kernelspec": {
   "display_name": "Python 3.9.7 ('base')",
   "language": "python",
   "name": "python3"
  },
  "language_info": {
   "codemirror_mode": {
    "name": "ipython",
    "version": 3
   },
   "file_extension": ".py",
   "mimetype": "text/x-python",
   "name": "python",
   "nbconvert_exporter": "python",
   "pygments_lexer": "ipython3",
   "version": "3.9.7"
  },
  "orig_nbformat": 4
 },
 "nbformat": 4,
 "nbformat_minor": 2
}
