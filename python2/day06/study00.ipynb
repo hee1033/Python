{
 "cells": [
  {
   "cell_type": "code",
   "execution_count": 1,
   "metadata": {},
   "outputs": [
    {
     "data": {
      "image/png": "[encoded data removed]",
      "text/plain": [
       "<Figure size 432x288 with 1 Axes>"
      ]
     },
     "metadata": {
      "needs_background": "light"
     },
     "output_type": "display_data"
    }
   ],
   "source": [
    "import matplotlib.pyplot as plt\n",
    "\n",
    "x = range(0,10)\n",
    "y = range(0,10)\n",
    "plt.plot(x,y,'ms')\n",
    "plt.show()"
   ]
  },
  {
   "cell_type": "code",
   "execution_count": 2,
   "metadata": {},
   "outputs": [
    {
     "data": {
      "image/png": "[encoded data removed]",
      "text/plain": [
       "<Figure size 432x288 with 2 Axes>"
      ]
     },
     "metadata": {
      "needs_background": "light"
     },
     "output_type": "display_data"
    }
   ],
   "source": [
    "import matplotlib.pyplot as plt\n",
    "import matplotlib.font_manager as fm \n",
    "import matplotlib\n",
    "\n",
    "fig = plt.figure(constrained_layout =True) #constrained_layout = True #간격을 가능한 최적의 수치로 자동 조절\n",
    "# 폰트 지정\n",
    "font_location = \"C:\\Windows\\Fonts\\H2GTRE.TTF\"\n",
    "fontname = fm.FontProperties(fname=font_location).get_name()\n",
    "matplotlib.rc('font',family = fontname)\n",
    "\n",
    "ax1 = fig.add_subplot(1,2,1) #add_subplot(행의갯수,열의갯수,위치값)\n",
    "ax2 = fig.add_subplot(1,2,2)\n",
    "\n",
    "x = range(0,10)\n",
    "y = range(5,15)\n",
    "\n",
    "ax1.plot(x,y,'ms')\n",
    "ax1.set_xlabel('시간')\n",
    "ax1.set_ylabel('qty')\n",
    "\n",
    "ax2.plot(x,y,'r+')\n",
    "ax2.set_xlabel('시간')\n",
    "ax2.set_ylabel('속력')\n",
    "plt.show()"
   ]
  }
 ],
 "metadata": {
  "interpreter": {
   "hash": "97ae724bfa85b9b34df7982b8bb8c7216f435b92902d749e4263f71162bea840"
  },
  "kernelspec": {
   "display_name": "Python 3.9.7 ('base')",
   "language": "python",
   "name": "python3"
  },
  "language_info": {
   "codemirror_mode": {
    "name": "ipython",
    "version": 3
   },
   "file_extension": ".py",
   "mimetype": "text/x-python",
   "name": "python",
   "nbconvert_exporter": "python",
   "pygments_lexer": "ipython3",
   "version": "3.9.7"
  },
  "orig_nbformat": 4
 },
 "nbformat": 4,
 "nbformat_minor": 2
}
