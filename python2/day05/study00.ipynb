{
 "cells": [
  {
   "cell_type": "code",
   "execution_count": 1,
   "metadata": {},
   "outputs": [
    {
     "name": "stdout",
     "output_type": "stream",
     "text": [
      "0    1\n",
      "1    2\n",
      "2    3\n",
      "3    4\n",
      "4    5\n",
      "dtype: int64\n"
     ]
    }
   ],
   "source": [
    "# 정수형 series \n",
    "import pandas as pd\n",
    "s= pd.Series([1,2,3,4,5])\n",
    "print(s)"
   ]
  },
  {
   "cell_type": "code",
   "execution_count": 2,
   "metadata": {},
   "outputs": [
    {
     "name": "stdout",
     "output_type": "stream",
     "text": [
      "0    1.3\n",
      "1    2.5\n",
      "2    3.6\n",
      "3    2.3\n",
      "4    1.2\n",
      "dtype: float64\n"
     ]
    }
   ],
   "source": [
    "# 실수형 series\n",
    "s = pd.Series([1.3,2.5,3.6,2.3,1.2])\n",
    "print(s)"
   ]
  },
  {
   "cell_type": "code",
   "execution_count": 3,
   "metadata": {},
   "outputs": [
    {
     "name": "stdout",
     "output_type": "stream",
     "text": [
      "a    1.3\n",
      "b    2.5\n",
      "c    3.6\n",
      "d    2.3\n",
      "e    1.2\n",
      "dtype: float64\n"
     ]
    }
   ],
   "source": [
    "# 인덱스 지정\n",
    "s = pd.Series([1.3,2.5,3.6,2.3,1.2], index=['a','b','c','d','e'])\n",
    "print(s)"
   ]
  },
  {
   "cell_type": "code",
   "execution_count": 4,
   "metadata": {},
   "outputs": [
    {
     "name": "stdout",
     "output_type": "stream",
     "text": [
      "[1 2 3]\n",
      "[0. 0. 0. 0. 0.]\n",
      "[[1. 1. 1.]\n",
      " [1. 1. 1.]]\n"
     ]
    }
   ],
   "source": [
    "import numpy as np\n",
    "a = np.array([1,2,3])\n",
    "print(a)\n",
    "\n",
    "b = np.zeros(5)\n",
    "print(b)\n",
    "\n",
    "c = np.ones((2,3))\n",
    "print(c)"
   ]
  },
  {
   "cell_type": "code",
   "execution_count": 5,
   "metadata": {},
   "outputs": [
    {
     "name": "stdout",
     "output_type": "stream",
     "text": [
      "[5 5 5 5]\n",
      "[4 6 6 4]\n",
      "2.5\n"
     ]
    }
   ],
   "source": [
    "a = np.array([1,2,3,4])\n",
    "b = np.array([4,3,2,1])\n",
    "# 요소별 합\n",
    "print(np.add(a,b))\n",
    "# 요소별 곱\n",
    "print(np.multiply(a,b))\n",
    "# 요소별 평균\n",
    "print(np.mean(a))"
   ]
  },
  {
   "cell_type": "code",
   "execution_count": 6,
   "metadata": {},
   "outputs": [
    {
     "name": "stdout",
     "output_type": "stream",
     "text": [
      "[[0.16161898 0.67763389 0.16549167 0.72277789 0.03826262]\n",
      " [0.34336911 0.14926012 0.86604472 0.57188346 0.23728906]]\n",
      "[[0.63966008 0.31671434 0.58812184 0.68109654]\n",
      " [0.40686817 0.48523077 0.93270409 0.99271528]]\n"
     ]
    }
   ],
   "source": [
    "# 0 과 1 사이에서 균일한 분포를 갖는 숫자 샘플링\n",
    "a = np.random.rand(2,5)\n",
    "print(a)\n",
    "\n",
    "# 표준정규분포를 갖는 숫자들 샘플링\n",
    "b = np.random.rand(2,4)\n",
    "print(b)"
   ]
  },
  {
   "cell_type": "code",
   "execution_count": 7,
   "metadata": {},
   "outputs": [
    {
     "name": "stdout",
     "output_type": "stream",
     "text": [
      "3.141592653589793\n",
      "2.718281828459045\n"
     ]
    }
   ],
   "source": [
    "# 파이\n",
    "a = np.pi\n",
    "print(a)\n",
    "# 오일러 상수\n",
    "b = np.e\n",
    "print(b)"
   ]
  },
  {
   "cell_type": "code",
   "execution_count": 8,
   "metadata": {},
   "outputs": [
    {
     "name": "stdout",
     "output_type": "stream",
     "text": [
      "<class 'numpy.ndarray'>\n",
      "[1 2 5 6 8]\n",
      "int32\n"
     ]
    }
   ],
   "source": [
    "a = np.array([1,2,5,6,8])\n",
    "print(type(a))\n",
    "print(a)\n",
    "print(a.dtype)"
   ]
  },
  {
   "cell_type": "code",
   "execution_count": 9,
   "metadata": {},
   "outputs": [
    {
     "name": "stdout",
     "output_type": "stream",
     "text": [
      "[[1 2 3]\n",
      " [4 5 6]]\n"
     ]
    }
   ],
   "source": [
    "a = np.array([(1,2,3),(4,5,6)])\n",
    "print(a)"
   ]
  },
  {
   "cell_type": "code",
   "execution_count": 10,
   "metadata": {},
   "outputs": [
    {
     "name": "stdout",
     "output_type": "stream",
     "text": [
      "[[1.+0.j 2.+0.j 3.+0.j]\n",
      " [4.+0.j 5.+0.j 6.+0.j]]\n"
     ]
    }
   ],
   "source": [
    "# 타입 지정\n",
    "a = np.array([[1,2,3],[4,5,6]],dtype=complex)\n",
    "print(a)"
   ]
  },
  {
   "cell_type": "code",
   "execution_count": 11,
   "metadata": {},
   "outputs": [
    {
     "name": "stdout",
     "output_type": "stream",
     "text": [
      "[0. 0. 0. 0. 0. 0. 0. 0. 0. 0.]\n",
      "[[[1 1 1 1]\n",
      "  [1 1 1 1]\n",
      "  [1 1 1 1]]\n",
      "\n",
      " [[1 1 1 1]\n",
      "  [1 1 1 1]\n",
      "  [1 1 1 1]]]\n"
     ]
    }
   ],
   "source": [
    "a = np.zeros(10)\n",
    "print(a)\n",
    "print(np.ones((2,3,4), dtype = np.int16))"
   ]
  },
  {
   "cell_type": "code",
   "execution_count": 12,
   "metadata": {},
   "outputs": [],
   "source": [
    "no = [1,2,3]\n",
    "sn = []\n",
    "sn.append('수학')\n",
    "sn.append('과학')\n",
    "sn.append('파이썬')"
   ]
  },
  {
   "cell_type": "code",
   "execution_count": 17,
   "metadata": {},
   "outputs": [
    {
     "name": "stdout",
     "output_type": "stream",
     "text": [
      "   과목번호  과목명\n",
      "0     1   수학\n",
      "1     2   과학\n",
      "2     3  파이썬\n"
     ]
    }
   ],
   "source": [
    "su = pd.DataFrame()\n",
    "su['과목번호'] = no\n",
    "su['과목명'] = sn\n",
    "print(su)\n",
    "su.to_excel(\"C:\\\\Users\\\\hee\\\\Desktop\\\\Python\\\\python2\\\\day05\\\\subject.xlsx\", index=False)"
   ]
  },
  {
   "cell_type": "code",
   "execution_count": 18,
   "metadata": {},
   "outputs": [],
   "source": [
    "su.to_csv(\"C:\\\\Users\\\\hee\\\\Desktop\\\\Python\\\\python2\\\\day05\\\\subject.csv\", encoding='utf-8-sig',index=False)"
   ]
  },
  {
   "cell_type": "code",
   "execution_count": 19,
   "metadata": {},
   "outputs": [
    {
     "name": "stdout",
     "output_type": "stream",
     "text": [
      "    이름  age      성별\n",
      "0  홍길동   20    male\n",
      "1  홍길순   21  female\n",
      "2  임꺽정   22    male\n"
     ]
    }
   ],
   "source": [
    "# 데이터 프레임은 파이썬의 리스트와 딕셔너리의 조합이다.\n",
    "df = pd.DataFrame({\"이름\":[\"홍길동\",\"홍길순\",\"임꺽정\"],\"age\":[20,21,22],\"성별\":[\"male\",\"female\",\"male\"]})\n",
    "print(df)"
   ]
  },
  {
   "cell_type": "code",
   "execution_count": 20,
   "metadata": {},
   "outputs": [
    {
     "name": "stdout",
     "output_type": "stream",
     "text": [
      "    이름  age      성별  고향\n",
      "0  홍길동   20    male  서울\n",
      "1  홍길순   21  female  부산\n",
      "2  임꺽정   22    male  대전\n"
     ]
    }
   ],
   "source": [
    "# 데이터프레임에 시리즈 추가\n",
    "home = pd.Series([\"서울\",\"부산\",\"대전\"],name = \"고향\")\n",
    "df[\"고향\"] = home\n",
    "print(df)"
   ]
  },
  {
   "cell_type": "code",
   "execution_count": 21,
   "metadata": {},
   "outputs": [
    {
     "name": "stdout",
     "output_type": "stream",
     "text": [
      "21.0\n",
      "22\n",
      "20\n"
     ]
    }
   ],
   "source": [
    "# 집계함수\n",
    "# 평균, 최대값, 최솟값\n",
    "print(df[\"age\"].mean())\n",
    "print(df[\"age\"].max())\n",
    "print(df[\"age\"].min())"
   ]
  },
  {
   "cell_type": "code",
   "execution_count": 22,
   "metadata": {},
   "outputs": [
    {
     "name": "stdout",
     "output_type": "stream",
     "text": [
      "        age\n",
      "count   3.0\n",
      "mean   21.0\n",
      "std     1.0\n",
      "min    20.0\n",
      "25%    20.5\n",
      "50%    21.0\n",
      "75%    21.5\n",
      "max    22.0\n"
     ]
    }
   ],
   "source": [
    "# 데이터 프레임의 기본 통계 내용 출력\n",
    "print(df.describe())"
   ]
  },
  {
   "cell_type": "code",
   "execution_count": 23,
   "metadata": {},
   "outputs": [
    {
     "name": "stdout",
     "output_type": "stream",
     "text": [
      "    이름  age      성별  고향\n",
      "0  홍길동   20    male  서울\n",
      "1  홍길순   21  female  부산\n"
     ]
    }
   ],
   "source": [
    "# head는 위에서부터 데이터를 끊어옴\n",
    "print(df.head(2))"
   ]
  },
  {
   "cell_type": "code",
   "execution_count": 24,
   "metadata": {},
   "outputs": [
    {
     "name": "stdout",
     "output_type": "stream",
     "text": [
      "    이름  age      성별  고향\n",
      "1  홍길순   21  female  부산\n",
      "2  임꺽정   22    male  대전\n"
     ]
    }
   ],
   "source": [
    "# tail은 밑에서부터 데이터를 끊어옴\n",
    "print(df.tail(2))"
   ]
  }
 ],
 "metadata": {
  "interpreter": {
   "hash": "97ae724bfa85b9b34df7982b8bb8c7216f435b92902d749e4263f71162bea840"
  },
  "kernelspec": {
   "display_name": "Python 3.9.7 ('base')",
   "language": "python",
   "name": "python3"
  },
  "language_info": {
   "codemirror_mode": {
    "name": "ipython",
    "version": 3
   },
   "file_extension": ".py",
   "mimetype": "text/x-python",
   "name": "python",
   "nbconvert_exporter": "python",
   "pygments_lexer": "ipython3",
   "version": "3.9.7"
  },
  "orig_nbformat": 4
 },
 "nbformat": 4,
 "nbformat_minor": 2
}
